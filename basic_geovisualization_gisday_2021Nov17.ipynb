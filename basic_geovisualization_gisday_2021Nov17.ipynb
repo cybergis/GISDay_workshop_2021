{
 "cells": [
  {
   "cell_type": "markdown",
   "id": "b747131b",
   "metadata": {},
   "source": [
    "# Getting Started with Interactive Mapping and Data Visualization\n",
    "#### Prepared for 2021 GIS Day Workshop by Zhiyu Li"
   ]
  },
  {
   "cell_type": "markdown",
   "id": "891d541b",
   "metadata": {},
   "source": [
    "## Programming with CyberGIS-Jupyter\n",
    "\n",
    "- **Cell**\n",
    " - Add a cell: single click on a cell --> Menu --> Insert\n",
    " - Delete a cell: single click on the cell to delete --> Menu --> Edit --> Delete Cells\n",
    " - Reorder a cell: click on a cell --> up arrow or down arrow\n",
    " - Change cell type: single click on a cell ---> Menu --> Cell Type\n",
    " - Edit cell\n",
    "   - Markdown: double click   ([basic syntax reference](https://jupyter-notebook.readthedocs.io/en/stable/examples/Notebook/Working%20With%20Markdown%20Cells.html))\n",
    "   - Code: single click  \n",
    " - Run a cell: single click on a cell --> Run (or Shift + Enter)\n",
    " - Run all cells: Menu --> Cell --> Run All\n",
    " - Clear all cell output: Menu --> Cell --> All Output --> Clear\n",
    "- **Kernel**\n",
    " - Change kernel: Menu --> Kernel --> Change kernel\n",
    "   - Choose versioned kernel (eg XXXXX-0.8.0) before sharing\n",
    " - Restart kernel: Menu --> Kernel --> Restart (& Clear output)\n",
    "- **See all notebooks (Tree View) on CyberGIS-Jupyter**\n",
    " - On CyberGIS-Hub page: click on \"Launch CyberGISX\" at the upper-right corner\n",
    " - On an opened notebook page: remove notebook filename (XXXX.ipynb) from browser address bar \n",
    "- **Troubleshooting**\n",
    " - Restart kernel\n",
    " - Restart CyberGIS-Jupyter (save notebook first!): Control Panel --> Stop My Server --> Start Server\n",
    " - Bug Report button\n",
    " - Announcement area (maintenance plan, release notes)\n",
    "- **More Info**\n",
    " - [\"Getting Started\" series notebooks on CyberGISX](https://cybergisxhub.cigi.illinois.edu/notebooks/)\n",
    " - [\"Jupyter Notbooks\" section in Knowledge Base](https://cybergisxhub.cigi.illinois.edu/knowledge-base/)\n",
    "- **Try it out now**"
   ]
  },
  {
   "cell_type": "markdown",
   "id": "9791cedf",
   "metadata": {},
   "source": [
    "#### Task 1: Add one new code cell after this cell\n",
    "Hint: Single click on this cell --> go to Menu --> Insert --> Insert Below"
   ]
  },
  {
   "cell_type": "markdown",
   "id": "15524fe4",
   "metadata": {},
   "source": [
    "#### Task 2: Uncomment the Python codes in the cell  below and run it\n",
    "Hint: Single click on the cell below --> Remove the Pound sign ('#') --> press Shift + Enter keys together"
   ]
  },
  {
   "cell_type": "code",
   "execution_count": null,
   "id": "9416a56a",
   "metadata": {},
   "outputs": [],
   "source": [
    "#print(\"hello world\")"
   ]
  },
  {
   "cell_type": "markdown",
   "id": "2dbe84cd",
   "metadata": {},
   "source": [
    "#### Task 3: clean all output of this notebook\n",
    "Hint: go to Menu --> Cell --> All Output --> Clear"
   ]
  },
  {
   "cell_type": "markdown",
   "id": "334c3f80",
   "metadata": {},
   "source": [
    "##### ----- Do not change anything below -----"
   ]
  },
  {
   "cell_type": "markdown",
   "id": "e20e967c",
   "metadata": {},
   "source": [
    "<a id='intro'></a>\n",
    "## Introduction\n",
    "This notebook will walk you through some basic techniques of conducting <b>Interative Mapping and Data Visualization</b> in the CyberGIS-Jupyter environment. We will retrieve the latest COVID-19 data from the [Illinois Department of Public Health](https://dph.illinois.gov/covid19/data/data-portal.html) (IDPH) website, examine and preprocess the data, make plots of daily new cases by counties using [matplotlib](https://matplotlib.org/), create an interactive map with [ipyleaflet](https://ipyleaflet.readthedocs.io/en/latest/) to visualize weekly channge of new cases across the state, and finally link map and plot together. \n",
    "\n",
    "After finishing this notebook, you will have a \"app-style\" notebook like the screenshot below. You are encouraged to tweak the codes a little bit to visualize other COVID-19 indices, such as deaths and testings. \n",
    "\n",
    "<img src=\"https://github.com/cybergis/GISDay_workshop_2021/raw/main/statics/screen.gif\" width=\"750\" align=\"center\">"
   ]
  },
  {
   "cell_type": "markdown",
   "id": "a14ae327",
   "metadata": {},
   "source": [
    "## Notebook Outline:\n",
    "- [Introduction](#intro)\n",
    "- [Setup](#setup)\n",
    "- [Data retrieval and preprocessing](#data_processing)\n",
    "    - [Download data from IDPH website](#download_data)\n",
    "    - [Examine raw data](examine_data)\n",
    "- [Plot time series data for a county](#time_series)\n",
    "- [Visualize weekly change of new cases at county level across the state](#visualize_weekly_change_rate)\n",
    "    - [Calcuate weekly change rate](#calculate_weekly_change_rate)\n",
    "    - [Data classification and Colormap](#data_classification)\n",
    "    - [Create a Choropleth Map with ipyLeaflet](#choropleth_map)\n",
    "- [App-style Interactive Map](#app_style_map)"
   ]
  },
  {
   "cell_type": "markdown",
   "id": "8383290f",
   "metadata": {},
   "source": [
    "<a id='setup'></a>\n",
    "## Setup\n",
    "This cell is to import required modules and libs. A breif description on the purpose of each libs can be found below:\n",
    "\n",
    " - [json](https://docs.python.org/3/library/json.html) - standard Python module for JSON format I/O operations\n",
    " - [wget]() - for downloading files from URLs\n",
    " - [numpy](https://numpy.org/) - for handling N-dimentional arrays and numerical computing\n",
    " - [pandas](https://pandas.pydata.org/) - for tabular data analysis and manipulation\n",
    " - [ipyleaflet](https://ipyleaflet.readthedocs.io/en/latest/) - for interactive mapping in Jupyter Notebook environment\n",
    " - [branca](https://python-visualization.github.io/branca/colormap.html) - for dealing with colormaps\n",
    " - [matplotlib]() - for creating plots and figures "
   ]
  },
  {
   "cell_type": "code",
   "execution_count": null,
   "id": "3d4d4a60",
   "metadata": {},
   "outputs": [],
   "source": [
    "import json\n",
    "import wget\n",
    "import numpy as np\n",
    "import pandas as pd\n",
    "import geopandas as gpd\n",
    "import ipyleaflet\n",
    "from branca import colormap\n",
    "import matplotlib.pyplot as plt\n",
    "\n",
    "# for interactive charting\n",
    "%matplotlib notebook"
   ]
  },
  {
   "cell_type": "markdown",
   "id": "b968cfa3",
   "metadata": {},
   "source": [
    "<a id='data_processing'></a>\n",
    "## Data retrieval and preprocessing"
   ]
  },
  {
   "cell_type": "markdown",
   "id": "dd07d62d",
   "metadata": {},
   "source": [
    "The [Illinois Department of Public Health](https://dph.illinois.gov/) has a [COVID-19 data portal](https://dph.illinois.gov/covid19/data/data-portal.html) that provides different metrics and data, including \"county-level histrorical cases, deaths and tested\", \"hospitalization data\", \"vaccine administration data\", \"zipcode-level cases and tested data\" and others. As noted on the website, data avaialbility, update frequency, data format and metrics reported are subject to change.\n",
    "\n",
    "The next cell will programmatically download the latest \"county-level histrorical cases, deaths and tested\" data on the fly. Since IDPH may choose to stop updating or remove the data from their website in the future, we downloaded the data as of Nov 16, 2021 and saved it (filename: idph_counties_Nov16_2021.csv) alongside the notebook for archive."
   ]
  },
  {
   "cell_type": "markdown",
   "id": "0f6bb72d",
   "metadata": {},
   "source": [
    "<a id='download_data'></a>\n",
    "### Download data from IDPH website"
   ]
  },
  {
   "cell_type": "code",
   "execution_count": null,
   "id": "116c2241",
   "metadata": {},
   "outputs": [],
   "source": [
    "# Download the latest data from IDPH website\n",
    "# https://dph.illinois.gov/covid19/data/data-portal/all-county-historical-snapshot.html\n",
    "idph_counties_url = \"https://idph.illinois.gov/DPHPublicInformation/api/COVIDExport/GetSnapshotHistorical?format=csv\"\n",
    "idph_counties_csv = wget.download(idph_counties_url, out=\"./idph_counties.csv\")\n",
    "\n",
    "## If you see any error in this cell, that probably indicates IDPH has removed this data from their website\n",
    "## You can continute with this notebook using an archived data by uncommenting the following line and re-run this cell\n",
    "#idph_counties_csv = \"idph_counties_Nov10_2021.csv\"\n",
    "\n",
    "print(\"Using data at {}\".format(idph_counties_csv))"
   ]
  },
  {
   "cell_type": "markdown",
   "id": "ec168d80",
   "metadata": {},
   "source": [
    "<a id='examine_data'></a>\n",
    "### Examine raw data\n",
    "The raw data is a csv file. We load it into a pandas dataframe (the 1st row is ignored as it is the title line). "
   ]
  },
  {
   "cell_type": "code",
   "execution_count": null,
   "id": "3b80bb39",
   "metadata": {},
   "outputs": [],
   "source": [
    "df = pd.read_csv(idph_counties_csv, skiprows=1, parse_dates=['ReportDate'])\n",
    "df"
   ]
  },
  {
   "cell_type": "markdown",
   "id": "002e6cc8",
   "metadata": {},
   "source": [
    "Each row includes metrics of a specific county reported on a specific day. We can see the earliest data is from 2020-03-17 and the rows at the bottom are the most recent data.\n",
    "\n",
    "![Weekly Change Rate](statics/raw_data.png)"
   ]
  },
  {
   "cell_type": "markdown",
   "id": "f543407f",
   "metadata": {},
   "source": [
    "List all county names. Note that IDPH separates Chicago city area from from Cook county in this dataset, and it treats Chicago as standalone county."
   ]
  },
  {
   "cell_type": "code",
   "execution_count": null,
   "id": "877928ca",
   "metadata": {},
   "outputs": [],
   "source": [
    "df.CountyName.unique()"
   ]
  },
  {
   "cell_type": "markdown",
   "id": "2428524c",
   "metadata": {},
   "source": [
    "<a id='time_series'></a>\n",
    "## Plot time series data for a county"
   ]
  },
  {
   "cell_type": "markdown",
   "id": "2e9935f0",
   "metadata": {},
   "source": [
    "We will plot the time series of daily new cases (metric/column name: \"CasesChange\") for a specific county you selected. You may change the county name or the metric/column name and re-run the following cells to visualiae a different plot of interest."
   ]
  },
  {
   "cell_type": "code",
   "execution_count": null,
   "id": "753730bd",
   "metadata": {},
   "outputs": [],
   "source": [
    "county_name = \"Chicago\" # pick a county from above and put it here\n",
    "metric_name = \"CasesChange\" # which metric/column to plot, see the headers of the original dataframe"
   ]
  },
  {
   "cell_type": "markdown",
   "id": "0c20ee66",
   "metadata": {},
   "source": [
    "Here we extract data for the county selected."
   ]
  },
  {
   "cell_type": "code",
   "execution_count": null,
   "id": "3e3739c2",
   "metadata": {},
   "outputs": [],
   "source": [
    "one_county = df[df[\"CountyName\"]==county_name].set_index(\"ReportDate\")\n",
    "one_county"
   ]
  },
  {
   "cell_type": "markdown",
   "id": "d77176e8",
   "metadata": {},
   "source": [
    "Plot the selected metric/column (\"CasesChange\" by default). The plot is created with matplotlib. Pandas has build-in support for matplotlib so we can make a plot from a panda dataframe directly."
   ]
  },
  {
   "cell_type": "code",
   "execution_count": null,
   "id": "37d1ed9b",
   "metadata": {},
   "outputs": [],
   "source": [
    "fig1, ax1 = plt.subplots(1,1, figsize=(8,4))\n",
    "title = 'COVID-19 {} - {}'.format(metric_name, county_name)\n",
    "one_county[metric_name].plot(ax=ax1, title=title)"
   ]
  },
  {
   "cell_type": "markdown",
   "id": "ce808a76",
   "metadata": {},
   "source": [
    "<a id='visualize_weekly_change_rate'></a>\n",
    "## Visualize weekly change of new cases at county level across the state"
   ]
  },
  {
   "cell_type": "markdown",
   "id": "432286c8",
   "metadata": {},
   "source": [
    "In this section, we will create a [Choropleth Map](https://en.wikipedia.org/wiki/Choropleth_map) to visualize the weekly change of new cases at county level across all counties in the state. We will randomly pick a date (day0) as the starting point, and look back for 1 week and calculate the number of new cases reported for that week (cases_current_week). We then look back for another week and caculate the same metric (cases_last_week). The weekly change rate is (cases_current_week - cases_last_week)/cases_last_week * 100%, and is calculated county by county. If the resulting number is postive (or negative), that means we are getting more (or less) cases than last week. The magnitude shows how fast the situation is changing, and we will use different colors to repreent them on the map. There is an edge case: if no new cases reported for the last week (cases_last_week=0), the change rate will become infinity as the denominator is 0. The pandas dataframe is able to handle it. \n",
    "\n",
    "![Weekly Change Rate](statics/weekly_change_rate.png)"
   ]
  },
  {
   "cell_type": "markdown",
   "id": "b03a1b9d",
   "metadata": {},
   "source": [
    "<a id='calculate_weekly_change_rate'></a>\n",
    "### Calcuate weekly change rate\n",
    "Here we pick a date as the day0 and extract \"CumulativeCases\" on that day for all counties. Be sure the date selected is within the range of the data and at least 2 weeks after the earilest reporting date (2020-03-27)."
   ]
  },
  {
   "cell_type": "markdown",
   "id": "84941295",
   "metadata": {},
   "source": [
    "Here we calcuate number of new cases reported for current week (cases_current_week) and last week (cases_last_week)."
   ]
  },
  {
   "cell_type": "code",
   "execution_count": null,
   "id": "9513b528",
   "metadata": {},
   "outputs": [],
   "source": [
    "day0 = np.datetime64('2021-11-16') # pick a date in the format of YYYY-MM-DD\n",
    "\n",
    "# calculate new cases for this week\n",
    "cum_cases_day0 = df[df[\"ReportDate\"]==day0].set_index(\"CountyName\").CumulativeCases\n",
    "day_1week = day0 - np.timedelta64(1,'W')\n",
    "cum_cases_1week = df[df[\"ReportDate\"]==day_1week].set_index(\"CountyName\").CumulativeCases\n",
    "cases_current_week = cum_cases_day0.sub(cum_cases_1week)\n",
    "# calculate new cases for last week\n",
    "day_2week = day0 - np.timedelta64(2,'W')\n",
    "cum_cases_2week = df[df[\"ReportDate\"]==day_2week].set_index(\"CountyName\").CumulativeCases\n",
    "cases_last_week = cum_cases_1week.sub(cum_cases_2week)\n",
    "\n",
    "pd.DataFrame({'Current Weel': cases_current_week,'Last Week':cases_last_week})"
   ]
  },
  {
   "cell_type": "markdown",
   "id": "40403a28",
   "metadata": {},
   "source": [
    "Calcuate weekly change rate for all counties, and sort them by the rates. You can check if any county has Postive Infinity."
   ]
  },
  {
   "cell_type": "code",
   "execution_count": null,
   "id": "befb10ed",
   "metadata": {},
   "outputs": [],
   "source": [
    "weekly_change_rate = cases_current_week.sub(cases_last_week).div(cases_last_week)\n",
    "weekly_change_rate.sort_values().to_frame(\"Change_Rate\")"
   ]
  },
  {
   "cell_type": "markdown",
   "id": "42f35066",
   "metadata": {},
   "source": [
    "<a id='data_classification'></a>\n",
    "### Data classification and Colormap"
   ]
  },
  {
   "cell_type": "markdown",
   "id": "6f370d37",
   "metadata": {},
   "source": [
    "We have calculcated the weekly change rate for every county. To visualize them on the map, we need to classify this metric into several classes and assign each class a different color.\n",
    "\n",
    "Here we classify the weekly change rate into 5 classes. Note that we are doing manual data classification and the breaks we chose are pretty arbitrary. How to do the data classifiation mainly depends on the data itself and how you want to represent them on the map. Sometimes trial and error might be needed to find the \"best\" classification. Also there are other more advanced methods and tools. See [Data Classification For Choropleth Maps](https://storymaps.arcgis.com/stories/871fe556c40b4d40b7a465c6f135ac88) and [MapClassify].(https://github.com/pysal/mapclassify) for details.\n",
    "\n",
    "```\n",
    "  > +50%      Class 1\n",
    "+10% to +50%  Class 2   \n",
    "-10% to +10%  Class 3            \n",
    "-10% to -50%  Class 4       \n",
    "  < -50%      Class 5                \n",
    "```"
   ]
  },
  {
   "cell_type": "code",
   "execution_count": null,
   "id": "b755fd92",
   "metadata": {},
   "outputs": [],
   "source": [
    "# the function that maps weekly change rate values to class 1-5\n",
    "def classify(v):\n",
    "    if v > 0.5:            \n",
    "        color_index = 1    #  class 1 - change rate > 50%\n",
    "    elif v > 0.1:\n",
    "        color_index = 2    #  class 2 - change rate 10% to 50%\n",
    "    elif v > -0.1:\n",
    "        color_index = 3    #  class 3 - change rate -10% to +10%\n",
    "    elif v > -0.5:\n",
    "        color_index = 4    #  class 4 - change rate -50% to +-10%\n",
    "    else: # < -0.5\n",
    "        color_index = 5    #  class 5 - change rate < -50%\n",
    "    return color_index"
   ]
  },
  {
   "cell_type": "markdown",
   "id": "b674efc8",
   "metadata": {},
   "source": [
    "Apply the above classify() function to every county in the \"weekly chanage rate\" dateframe. The resulting dataframe lists county names and assigned color indices."
   ]
  },
  {
   "cell_type": "code",
   "execution_count": null,
   "id": "2edcc304",
   "metadata": {},
   "outputs": [],
   "source": [
    "weekly_change_rate_class = weekly_change_rate.apply(classify)\n",
    "weekly_change_rate_class.to_frame(\"Class\")"
   ]
  },
  {
   "cell_type": "markdown",
   "id": "eb359cf4",
   "metadata": {},
   "source": [
    "Once the data is classified, we can pick colors for every class. The library [branca](https://python-visualization.github.io/branca/colormap.html) provides a large collection of prebuilt color ramps. Here we have picked a Red-Yellow-Green color ramp.  You may uncomment the following cell to see more avaiable color ramps."
   ]
  },
  {
   "cell_type": "code",
   "execution_count": null,
   "id": "e8244f96",
   "metadata": {},
   "outputs": [],
   "source": [
    "#colormap.linear"
   ]
  },
  {
   "cell_type": "code",
   "execution_count": null,
   "id": "e86c8476",
   "metadata": {},
   "outputs": [],
   "source": [
    "cm_linear = colormap.linear.RdYlGn_08\n",
    "cm_linear"
   ]
  },
  {
   "cell_type": "markdown",
   "id": "bb958b51",
   "metadata": {},
   "source": [
    "We create 5 discrete color steps and assign class indices to them:"
   ]
  },
  {
   "cell_type": "code",
   "execution_count": null,
   "id": "2c2e2683",
   "metadata": {
    "scrolled": true
   },
   "outputs": [],
   "source": [
    "N_color_steps = 5  # How many discrete color steps\n",
    "# The \"cm\" object (color map) is callable that takes a index and returns color code.\n",
    "cm = cm_linear.to_step(index=range(N_color_steps+1), round_method=\"int\")\n",
    "\n",
    "def display_colormap(cm_func, vlist):\n",
    "    from IPython.display import HTML\n",
    "    n = len(vlist)\n",
    "    s = '<svg height=\"40\" width=\"{}\">'.format(n*40) \\\n",
    "    + \"\".join(['<circle cx=\"{}\" cy=\"20\" r=\"20\" fill=\"{}\"/><text x=\"{}\" y=\"25\">{}</text>'.format(i*40+20, cm_func(vlist[i]), i*40+15, vlist[i]) for i in range(len(vlist))]) \\\n",
    "    +'</svg>'\n",
    "    return HTML(s)\n",
    "display_colormap(cm, range(1, N_color_steps+1))\n"
   ]
  },
  {
   "cell_type": "markdown",
   "id": "61b8cee4",
   "metadata": {},
   "source": [
    "```\n",
    "Red           Class 1      > +50% \n",
    "Orange        Class 2      +10% to +50%\n",
    "Yellow        Class 3      -10% to +10%\n",
    "Light Green   Class 4      -10% to -50%\n",
    "Green         Class 5      < -50%\n",
    "```"
   ]
  },
  {
   "cell_type": "markdown",
   "id": "b08ca8a0",
   "metadata": {},
   "source": [
    "<a id='choropleth_map'></a>\n",
    "### Create a choropleth map with ipyleaflet"
   ]
  },
  {
   "cell_type": "markdown",
   "id": "834c64c5",
   "metadata": {},
   "source": [
    "Here we use [ipyleaflet](https://github.com/jupyter-widgets/ipyleaflet) for mapping, which is a Jupyter extension that brings in [leaflet](https://leafletjs.com/) features to notebook environment. (Note that there also are other tools avaiable you can use to creates maps in notebook, such as folium, plotly, carto, mapbox and arcgis.)\n",
    "\n",
    "We first ceate a \"map\" object, center it at Illinois, and add some basic controls to the map including a scale bar and a layer control. For more map control opntions, see [here](https://ipyleaflet.readthedocs.io/en/latest/index.html)."
   ]
  },
  {
   "cell_type": "code",
   "execution_count": null,
   "id": "504ec7d0",
   "metadata": {},
   "outputs": [],
   "source": [
    "# create a ipyleaflet map obj, centering at Illinois\n",
    "map = ipyleaflet.Map(center=[40.6, -89.6],  zoom = 6)\n",
    "# add a layer control at the topright\n",
    "map.add_control(ipyleaflet.LayersControl(position='topright'))\n",
    "# add a scale bar at the bottomleft\n",
    "map.add_control(ipyleaflet.ScaleControl(position='bottomleft'))\n",
    "map"
   ]
  },
  {
   "cell_type": "markdown",
   "id": "6b0901bf",
   "metadata": {},
   "source": [
    "In the \"data\" folder, there is a [GeoJSON](https://geojson.org/) file (\"idph_geometry.geojson\") that contains geomery (polygon) for all Illinois counties. A \"Chicago county\" was added to make it compatible with IDPH data. \n",
    "We can use GeoPandas to have quick inspection on it."
   ]
  },
  {
   "cell_type": "code",
   "execution_count": null,
   "id": "bb85a8f3",
   "metadata": {},
   "outputs": [],
   "source": [
    "# geojson file has county geometry (polygon)\n",
    "county_geomoetry_geojson = \"data/idph_geometry.geojson\"\n",
    "gpd.read_file(county_geomoetry_geojson)[[\"id\", \"geometry\"]]"
   ]
  },
  {
   "cell_type": "markdown",
   "id": "13a1770d",
   "metadata": {},
   "source": [
    "We put everything together using the ipyleaflet.Choropleth class. There are 3 parameters we need to pay attention to: \"geo_data\" is the geometry (county polygon) to plot; \"choro_data\" is a dictionary that maps geometry (county) to class indices (classified weekly change rate); \"colormap\" is the colormap funtion that converts class indices into colors.\n",
    "\n",
    "![ipyleaflet.Choropleth](statics/choropleth.png)"
   ]
  },
  {
   "cell_type": "code",
   "execution_count": null,
   "id": "f25a8154",
   "metadata": {},
   "outputs": [],
   "source": [
    "with open(county_geomoetry_geojson, 'r') as f:\n",
    "    layer = ipyleaflet.Choropleth(\n",
    "                name=\"Weekly Change of New COVID-19 Cases\",\n",
    "                geo_data=json.load(f),                          # County geometry (geojson file)\n",
    "                choro_data=weekly_change_rate_class.to_dict(),  # Geometry ID --> Class Index\n",
    "                colormap=cm,                                    # Class Index --> Color\n",
    "                style={'fillOpacity': 0.8})                     \n",
    "map.add_layer(layer)\n",
    "map"
   ]
  },
  {
   "cell_type": "markdown",
   "id": "45218a85",
   "metadata": {},
   "source": [
    "Add a legend to the map"
   ]
  },
  {
   "cell_type": "code",
   "execution_count": null,
   "id": "a7a1c663",
   "metadata": {},
   "outputs": [],
   "source": [
    "legend = ipyleaflet.LegendControl({\"+50%\": cm(1),\n",
    "                                   \"+10% to +50%\": cm(2),\n",
    "                                   \"Steady (-10% to +10%)\":cm(3),\n",
    "                                   \"-10% to -50%\":cm(4), \n",
    "                                   \"-50%\":cm(5)},\n",
    "                                   name=\"Weekly Change of New Cases\", \n",
    "                                   position=\"bottomright\")\n",
    "map.add_control(legend)"
   ]
  },
  {
   "cell_type": "markdown",
   "id": "63bb4d33",
   "metadata": {},
   "source": [
    "<a id='app_style_map'></a>\n",
    "## App-style Interactive Map"
   ]
  },
  {
   "cell_type": "markdown",
   "id": "30bc7f30",
   "metadata": {},
   "source": [
    "The ipywidget allows you to monitor user actions on the map and make responses accordingly. \n",
    "\n",
    "In this case, when a county is being clicked, we catch the county id (name) and plot the daily new cases time series as we did above, making it a app-style interactive map."
   ]
  },
  {
   "cell_type": "code",
   "execution_count": null,
   "id": "47ea8388",
   "metadata": {},
   "outputs": [],
   "source": [
    "def layer_on_click(**kwargs):\n",
    "    global ax2\n",
    "    ax2.cla() # clear previous plot\n",
    "    county_name=kwargs[\"id\"] # get the id (name) of the clicked county\n",
    "    one_county = df[df[\"CountyName\"]==county_name].set_index(\"ReportDate\") # extract data for this county\n",
    "    one_county.CasesChange.plot(ax=ax2, title='COVID-19 Daily Cases - {}'.format(county_name)) # plot time series\n",
    "\n",
    "fig2, ax2 = plt.subplots(1,1, figsize=(9,4))\n",
    "fig2.suptitle(\"(Click on the Map to view COVID-19 Daily Cases)\")\n",
    "layer.on_click(layer_on_click) # monitor mouse click event on the layer\n",
    "map"
   ]
  },
  {
   "cell_type": "markdown",
   "id": "a35c5ee7",
   "metadata": {},
   "source": [
    "## The End"
   ]
  }
 ],
 "metadata": {
  "kernelspec": {
   "display_name": "Python 3-0.8.0",
   "language": "python",
   "name": "python3-0.8.0"
  },
  "language_info": {
   "codemirror_mode": {
    "name": "ipython",
    "version": 3
   },
   "file_extension": ".py",
   "mimetype": "text/x-python",
   "name": "python",
   "nbconvert_exporter": "python",
   "pygments_lexer": "ipython3",
   "version": "3.8.5"
  }
 },
 "nbformat": 4,
 "nbformat_minor": 5
}
